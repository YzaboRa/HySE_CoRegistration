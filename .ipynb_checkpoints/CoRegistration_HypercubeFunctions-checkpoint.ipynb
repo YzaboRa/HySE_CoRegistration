{
 "cells": [
  {
   "cell_type": "code",
   "execution_count": 1,
   "id": "ea6b39b1",
   "metadata": {},
   "outputs": [
    {
     "data": {
      "text/html": [
       "<style>.container { width:100% !important; }</style>"
      ],
      "text/plain": [
       "<IPython.core.display.HTML object>"
      ]
     },
     "metadata": {},
     "output_type": "display_data"
    }
   ],
   "source": [
    "%matplotlib ipympl\n",
    "\n",
    "from IPython.display import display, HTML\n",
    "display(HTML(\"<style>.container { width:100% !important; }</style>\"))\n",
    "\n",
    "# from scipy.ndimage import gaussian_filter\n",
    "\n",
    "from __future__ import print_function\n",
    "from matplotlib import pyplot as plt\n",
    "import matplotlib\n",
    "import matplotlib.patches as patches\n",
    "from matplotlib.collections import PatchCollection\n",
    "from matplotlib.patches import Rectangle\n",
    "import matplotlib.colors as colors\n",
    "import matplotlib.cm as cmx\n",
    "from mpl_toolkits.axes_grid1 import make_axes_locatable\n",
    "# from PIL import Image\n",
    "from tqdm.notebook import trange, tqdm, tnrange\n",
    "import time\n",
    "from datetime import datetime\n",
    "\n",
    "# import math\n",
    "# import glob\n",
    "import numpy as np\n",
    "\n",
    "\n",
    "# import itertools\n",
    "import os.path\n",
    "import os\n",
    "import sys\n",
    "# from skimage.io import imread\n",
    "import cv2\n",
    "\n",
    "# import pandas as pd\n",
    "\n",
    "# from scipy.signal import savgol_filter\n",
    "# import pytesseract \n",
    "# from scipy.signal import find_peaks\n",
    "\n",
    "matplotlib.rcParams.update({'font.size': 14})\n",
    "plt.rcParams[\"font.family\"] = \"arial\"\n",
    "\n",
    "\n",
    "import SimpleITK as sitk\n",
    "# import imageio"
   ]
  },
  {
   "cell_type": "code",
   "execution_count": 2,
   "id": "19670c0c",
   "metadata": {},
   "outputs": [],
   "source": [
    "## Import functions\n",
    "PathToFunctions = '/Users/iracicot/Documents/GitHub/HySE_HypercubeFunctions/'\n",
    "sys.path.append(PathToFunctions)\n",
    "from HySE_HypercubeFunctions import *\n",
    "\n",
    "## Indicate which wavelengths were used (Panel4, Panel2), in nm\n",
    "\n",
    "# Wavelengths_list = np.array([566,494,590,518,614,542,638, 578,506,602,530,626,554,650])\n",
    "# SavingPath = '/Users/iracicot/Library/CloudStorage/OneDrive-UniversityofCambridge/Data/PoM/EndoscopeVideo/20240529/'\n",
    "# ## Locate the data to analyse\n",
    "# Name = 'Hand_Moving'\n",
    "# # Name = 'Flat'\n",
    "# # Name = 'Columns'\n",
    "\n",
    "\n",
    "\n",
    "Wavelengths_list = np.array([470,566,494,590,518,614,542,638, 482,578,506,602,530,626,554,650])\n",
    "SavingPath = '/Users/iracicot/Library/CloudStorage/OneDrive-UniversityofCambridge/Data/PoM/EndoscopeVideo/20240524/'\n",
    "## Locate the data to analyse\n",
    "Name = 'Hand'\n",
    "\n",
    "CropImDimensions = [166,680, 42,520] ## Dazzle, PoM\n",
    "\n",
    "\n",
    "DataPath = SavingPath\n",
    "vidPath = DataPath+Name+'.mpg'"
   ]
  },
  {
   "cell_type": "code",
   "execution_count": 8,
   "id": "471e0dec",
   "metadata": {},
   "outputs": [
    {
     "name": "stdout",
     "output_type": "stream",
     "text": [
      "ATTENTION: ReturnPeaks is set to True. Be careful, the output will have three elements!\n",
      "List of optional parameters:\n",
      "If none input, the code with set a default value for each.\n",
      "\t- Help = True: to print this help message\n",
      "\t- PlotGradient = True: To plot gratient of smoothed trace and detected peaks\n",
      "\t\t\tTo see effect of other parameters when optimising\n",
      "\t- PrintPeaks = True: To print the list of all detected peaks and their positions\n",
      "\t- MaxPlateauSize = Integer: Set the maximal expected size for a plateau.\n",
      "\t- WindowLength = Integer: Window over which the smoothing of the trace is performed\n",
      "\t\t\tIf the data consists of NxRGB cycles, this number should be a factor of 3\n",
      "\t- PolyOrder = Integer: Order of the polynomial used in smoothing (Savitzky-Golay)\n",
      "\t- PeakHeight = Float: Detection threshold applied to the gradient of the smoothed trace\n",
      "\t\t\tto find edges between neighbouring colours\n",
      "\t- PeakDistance = Integer: Minimal distance between neightbouring peaks/plateaux\n",
      "\t\t\tDepends on the repeat number, and will impact the detection of double plateaux\n",
      "\t- DarkMin = Integer: Set the minimal size of the long dark between succesive sweeps\n",
      "\t\t\tDepends on the repeat numbner, and will impact the detection of individial sweeps\n",
      "\t- PlateauSize = Integer: Set the expected average size for a plateau (in frame number)\n",
      "\t\t\tDepends on the repeat number and will impact how well double plateaux are handled\n",
      "\t\t\tAutomatically adjusts expected size when plateaux are detected, but needs to be set\n",
      "\t\t\tmanually if a full sweep could not be detected automatically.\n",
      "\t- CropImDimensions = [xmin, xmax, ymin, ymax]: coordinates of image crop (default Full HD)\n",
      "\t- ReturnPeaks = True: if want the list of peaks and peak distances\n",
      "\t\t\t(for manual tests, for example if fewer than 8 colours\n",
      "\t- Ncolours = integer: if different from 8 (for example, if one FSK was off)\n"
     ]
    }
   ],
   "source": [
    "EdgePos, Peaks, Peaks_dist = FindHypercube(vidPath, Wavelengths_list, PlotGradient=True, CropImDimensions=[166,680, 42,520], DarkMin=50, PlateauSize=17, \n",
    "                                           MaxPlateauSize=30, PeakHeight=0.4, ReturnPeaks=True, PeakDistance=15, WindowLength=3, Help=True)"
   ]
  },
  {
   "cell_type": "code",
   "execution_count": null,
   "id": "0a281348",
   "metadata": {},
   "outputs": [],
   "source": [
    "DataAll = ImportData(vidPath, CropImDimensions=CropImDimensions)"
   ]
  },
  {
   "cell_type": "code",
   "execution_count": null,
   "id": "bf336281",
   "metadata": {},
   "outputs": [],
   "source": [
    "Nsweep = 7\n",
    "\n",
    "DataSweep = []\n",
    "for Nc in range(0,len(EdgePos[Nsweep])):\n",
    "    Data_c = DataAll[EdgePos[Nsweep][Nc,0]:EdgePos[Nsweep][Nc,0]+EdgePos[Nsweep][Nc,1], :,:]\n",
    "    DataSweep.append(Data_c)"
   ]
  },
  {
   "cell_type": "code",
   "execution_count": null,
   "id": "7aa0541b",
   "metadata": {},
   "outputs": [],
   "source": [
    "print(DataSweep[0].shape)"
   ]
  },
  {
   "cell_type": "code",
   "execution_count": null,
   "id": "e26377d9",
   "metadata": {},
   "outputs": [],
   "source": []
  },
  {
   "cell_type": "code",
   "execution_count": null,
   "id": "de2dbb80",
   "metadata": {},
   "outputs": [],
   "source": []
  }
 ],
 "metadata": {
  "kernelspec": {
   "display_name": "Python 3 (ipykernel)",
   "language": "python",
   "name": "python3"
  },
  "language_info": {
   "codemirror_mode": {
    "name": "ipython",
    "version": 3
   },
   "file_extension": ".py",
   "mimetype": "text/x-python",
   "name": "python",
   "nbconvert_exporter": "python",
   "pygments_lexer": "ipython3",
   "version": "3.10.4"
  }
 },
 "nbformat": 4,
 "nbformat_minor": 5
}
