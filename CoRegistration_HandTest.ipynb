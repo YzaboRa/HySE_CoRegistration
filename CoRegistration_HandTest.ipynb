{
 "cells": [
  {
   "cell_type": "code",
   "execution_count": 1,
   "id": "cb61c2a7",
   "metadata": {},
   "outputs": [
    {
     "data": {
      "text/html": [
       "<style>.container { width:100% !important; }</style>"
      ],
      "text/plain": [
       "<IPython.core.display.HTML object>"
      ]
     },
     "metadata": {},
     "output_type": "display_data"
    }
   ],
   "source": [
    "# %matplotlib widget\n",
    "%matplotlib ipympl\n",
    "# from ipywidgets import *\n",
    "\n",
    "from IPython.display import display, HTML\n",
    "display(HTML(\"<style>.container { width:100% !important; }</style>\"))\n",
    "from scipy.ndimage import gaussian_filter\n",
    "\n",
    "from __future__ import print_function\n",
    "from matplotlib import pyplot as plt\n",
    "import matplotlib\n",
    "import matplotlib.patches as patches\n",
    "from matplotlib.collections import PatchCollection\n",
    "from matplotlib.patches import Rectangle\n",
    "import matplotlib.colors as colors\n",
    "import matplotlib.cm as cmx\n",
    "from mpl_toolkits.axes_grid1 import make_axes_locatable\n",
    "from PIL import Image\n",
    "from tqdm.notebook import trange, tqdm, tnrange\n",
    "import time\n",
    "from datetime import datetime\n",
    "\n",
    "import math\n",
    "import glob\n",
    "import numpy as np\n",
    "\n",
    "\n",
    "import itertools\n",
    "import os.path\n",
    "import os\n",
    "import sys\n",
    "from skimage.io import imread\n",
    "import cv2\n",
    "\n",
    "import pandas as pd\n",
    "\n",
    "import imageio\n",
    "from scipy.signal import savgol_filter\n",
    "# import pytesseract \n",
    "\n",
    "from scipy.signal import find_peaks\n",
    "matplotlib.rcParams.update({'font.size': 14})\n",
    "plt.rcParams[\"font.family\"] = \"arial\"\n",
    "\n",
    "\n",
    "import SimpleITK as sitk\n",
    "import imageio"
   ]
  },
  {
   "cell_type": "code",
   "execution_count": 2,
   "id": "8e2f64c8",
   "metadata": {},
   "outputs": [
    {
     "ename": "SyntaxError",
     "evalue": "invalid syntax (HySE_HypercubeFunctions.py, line 461)",
     "output_type": "error",
     "traceback": [
      "Traceback \u001b[0;36m(most recent call last)\u001b[0m:\n",
      "\u001b[0m  File \u001b[1;32m/opt/anaconda3/envs/SimpleElastix/lib/python3.10/site-packages/IPython/core/interactiveshell.py:3577\u001b[0m in \u001b[1;35mrun_code\u001b[0m\n    exec(code_obj, self.user_global_ns, self.user_ns)\u001b[0m\n",
      "\u001b[0;36m  Cell \u001b[0;32mIn[2], line 4\u001b[0;36m\n\u001b[0;31m    from HySE_HypercubeFunctions import *\u001b[0;36m\n",
      "\u001b[0;36m  File \u001b[0;32m~/Documents/GitHub/HySE_HypercubeFunctions/HySE_HypercubeFunctions.py:461\u001b[0;36m\u001b[0m\n\u001b[0;31m    if frame not None:\u001b[0m\n\u001b[0m                 ^\u001b[0m\n\u001b[0;31mSyntaxError\u001b[0m\u001b[0;31m:\u001b[0m invalid syntax\n"
     ]
    }
   ],
   "source": [
    "## Import functions\n",
    "PathToFunctions = '/Users/iracicot/Documents/GitHub/HySE_HypercubeFunctions/'\n",
    "sys.path.append(PathToFunctions)\n",
    "from HySE_HypercubeFunctions import *\n",
    "\n",
    "## Indicate which wavelengths were used (Panel4, Panel2), in nm\n",
    "SavingPath = '/Users/iracicot/Library/CloudStorage/OneDrive-UniversityofCambridge/Data/PoM/EndoscopeVideo/20240529/'\n",
    "Wavelengths_list = np.array([566,494,590,518,614,542,638, 578,506,602,530,626,554,650])\n",
    "\n",
    "## Locate the data to analyse\n",
    "Name = 'Hand_Moving'\n",
    "DataPath = SavingPath\n",
    "vidPath = DataPath+Name+'.mpg'\n",
    "\n",
    "CropImDimensions = [166,680, 42,520] ## Dazzle, PoM"
   ]
  },
  {
   "cell_type": "code",
   "execution_count": null,
   "id": "26f09470",
   "metadata": {},
   "outputs": [],
   "source": [
    "## Find the positions of each wavelengths in the data trace\n",
    "## Start with Help=True to have a list and descriptions of all the\n",
    "## parameters to play with, and then with PlotGradient=True\n",
    "## to help optimising\n",
    "# EdgePos = FindHypercube(vidPath, Wavelengths_list, Help=False, PlotGradient=True)\n",
    "# Help()\n",
    "\n",
    "# ImportData(Path, *Coords, **Info)\n",
    "# \t\tFunction to impport data.\n",
    "# \t\tInputs:\n",
    "# \t\t\t- Coords = Nstart, Nend\n",
    "# \t\t\t- Infos: default(optional)\n",
    "# \t\t\t\t- RGB = False(True): Keep RGB format (3D size)\n",
    "# \t\t\t\t- Trace = False(True): Calculate trace (frame avg)\n",
    "# \t\t\t\t- CropIm = True(False): Crop the patient info\n",
    "# \t\t\t\t- CropImDimensions = [xmin, xmax, ymin, ymax]: coordinates of image crop (default Full HD)\n",
    "# \t\t\t\t\t[702,1856, 39,1039] : CCRC Full HD\n",
    "# \t\t\t\t\t[263,695, 99,475] : CCRC standard/smaller canvas\n",
    "# \t\tOutputs:\n",
    "# \t\t\t- data (array)\n",
    "\n",
    "\n",
    "test = ImportData(vidPath, Trace=True, CropImDimensions=[166,680, 42,520])"
   ]
  },
  {
   "cell_type": "code",
   "execution_count": null,
   "id": "431e57bf",
   "metadata": {},
   "outputs": [],
   "source": []
  }
 ],
 "metadata": {
  "kernelspec": {
   "display_name": "Python 3 (ipykernel)",
   "language": "python",
   "name": "python3"
  },
  "language_info": {
   "codemirror_mode": {
    "name": "ipython",
    "version": 3
   },
   "file_extension": ".py",
   "mimetype": "text/x-python",
   "name": "python",
   "nbconvert_exporter": "python",
   "pygments_lexer": "ipython3",
   "version": "3.10.4"
  }
 },
 "nbformat": 4,
 "nbformat_minor": 5
}
