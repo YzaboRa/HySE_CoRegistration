{
 "cells": [
  {
   "cell_type": "code",
   "execution_count": 1,
   "id": "3f3f1f9c",
   "metadata": {},
   "outputs": [
    {
     "data": {
      "text/html": [
       "<style>.container { width:100% !important; }</style>"
      ],
      "text/plain": [
       "<IPython.core.display.HTML object>"
      ]
     },
     "metadata": {},
     "output_type": "display_data"
    }
   ],
   "source": [
    "%matplotlib ipympl\n",
    "\n",
    "from IPython.display import display, HTML\n",
    "display(HTML(\"<style>.container { width:100% !important; }</style>\"))\n",
    "\n",
    "# from scipy.ndimage import gaussian_filter\n",
    "\n",
    "from __future__ import print_function\n",
    "from matplotlib import pyplot as plt\n",
    "import matplotlib\n",
    "import matplotlib.patches as patches\n",
    "from matplotlib.collections import PatchCollection\n",
    "from matplotlib.patches import Rectangle\n",
    "import matplotlib.colors as colors\n",
    "import matplotlib.cm as cmx\n",
    "from mpl_toolkits.axes_grid1 import make_axes_locatable\n",
    "# from PIL import Image\n",
    "from tqdm.notebook import trange, tqdm, tnrange\n",
    "import time\n",
    "from datetime import datetime\n",
    "\n",
    "# import math\n",
    "# import glob\n",
    "import numpy as np\n",
    "\n",
    "\n",
    "# import itertools\n",
    "import os.path\n",
    "import os\n",
    "import sys\n",
    "# from skimage.io import imread\n",
    "import cv2\n",
    "\n",
    "# import pandas as pd\n",
    "\n",
    "# from scipy.signal import savgol_filter\n",
    "# import pytesseract \n",
    "# from scipy.signal import find_peaks\n",
    "\n",
    "matplotlib.rcParams.update({'font.size': 14})\n",
    "plt.rcParams[\"font.family\"] = \"arial\"\n",
    "\n",
    "\n",
    "import importlib\n",
    "\n",
    "import SimpleITK as sitk\n",
    "# import imageio"
   ]
  },
  {
   "cell_type": "code",
   "execution_count": 2,
   "id": "df68d4fd",
   "metadata": {},
   "outputs": [],
   "source": [
    "## Import functions\n",
    "PathToFunctions = '/Users/iracicot/Documents/GitHub/HySE_HypercubeFunctions/'\n",
    "sys.path.append(PathToFunctions)\n",
    "# from HySE_HypercubeFunctions import *\n",
    "import HySE_HypercubeFunctions\n",
    "import HySE_CoRegistration\n",
    "\n",
    "## Indicate which wavelengths were used (Panel4, Panel2), in nm\n",
    "Wavelengths_list = np.array([470,566,494,590,518,614,542,638, 482,578,506,602,530,626,554,650])\n",
    "\n",
    "\n",
    "SavingPath = '/Users/iracicot/Library/CloudStorage/OneDrive-UniversityofCambridge/Data/PoM/EndoscopeVideo/20240524/'\n",
    "## Locate the data to analyse\n",
    "Name = 'Hand'\n",
    "\n",
    "CropImDimensions = [166,680, 42,520] ## Dazzle, PoM\n",
    "\n",
    "\n",
    "DataPath = SavingPath\n",
    "vidPath = DataPath+Name+'.mpg'"
   ]
  },
  {
   "cell_type": "code",
   "execution_count": null,
   "id": "0015de4b",
   "metadata": {},
   "outputs": [],
   "source": [
    "EdgePos, Peaks, Peaks_dist = HySE_HypercubeFunctions.FindHypercube(vidPath, Wavelengths_list, PlotGradient=False, CropImDimensions=CropImDimensions, DarkMin=50, PlateauSize=17, \n",
    "                                                                   MaxPlateauSize=30, PeakHeight=0.4, ReturnPeaks=True, PeakDistance=15, WindowLength=3)"
   ]
  },
  {
   "cell_type": "code",
   "execution_count": null,
   "id": "914a94d8",
   "metadata": {},
   "outputs": [],
   "source": [
    "# DataAll = HySE_HypercubeFunctions.ImportData(vidPath, CropImDimensions=CropImDimensions)"
   ]
  },
  {
   "cell_type": "code",
   "execution_count": null,
   "id": "057fe1e4",
   "metadata": {},
   "outputs": [],
   "source": [
    "# Nsweep = 6\n",
    "\n",
    "# DataSweep = []\n",
    "# for Nc in range(0,len(EdgePos[Nsweep])):\n",
    "#     Data_c = DataAll[EdgePos[Nsweep][Nc,0]:EdgePos[Nsweep][Nc,0]+EdgePos[Nsweep][Nc,1], :,:]\n",
    "#     DataSweep.append(Data_c)"
   ]
  },
  {
   "cell_type": "code",
   "execution_count": null,
   "id": "498bcb8f",
   "metadata": {},
   "outputs": [],
   "source": [
    "DataSweep = HySE_HypercubeFunctions."
   ]
  },
  {
   "cell_type": "code",
   "execution_count": null,
   "id": "1566c0ea",
   "metadata": {},
   "outputs": [],
   "source": [
    "# importlib.reload(HySE_HypercubeFunctions)\n",
    "\n",
    "SP = f'{SavingPath}{Name}_test.png'\n",
    "\n",
    "Hypercube = HySE_HypercubeFunctions.SweepCoRegister(DataSweep, Wavelengths_list, ImStatic_Plateau=1, ImStatic_Index=8, Buffer=6, Plot_PlateauList='All', Plot_Index=7, PlotDiff=True, SavingPath=SP)"
   ]
  },
  {
   "cell_type": "code",
   "execution_count": null,
   "id": "0e854545",
   "metadata": {},
   "outputs": [],
   "source": []
  },
  {
   "cell_type": "code",
   "execution_count": null,
   "id": "2758eed8",
   "metadata": {},
   "outputs": [],
   "source": [
    "importlib.reload(HySE_HypercubeFunctions)\n",
    "importlib.reload(HySE_CoRegistration)\n",
    "\n",
    "HySE_HypercubeFunctions.PlotHypercube(Hypercube, Wavelengths=Wavelengths_list)"
   ]
  },
  {
   "cell_type": "code",
   "execution_count": null,
   "id": "c0591109",
   "metadata": {},
   "outputs": [],
   "source": [
    "SavingPathWithName = f'{SavingPath}{Name}_Sweep{Nsweep}.mp4'\n",
    "\n",
    "HySE_HypercubeFunctions.MakeHypercubeVideo(Hypercube, SavingPathWithName)"
   ]
  },
  {
   "cell_type": "code",
   "execution_count": null,
   "id": "bab1f058",
   "metadata": {},
   "outputs": [],
   "source": []
  },
  {
   "cell_type": "code",
   "execution_count": null,
   "id": "5bb30117",
   "metadata": {},
   "outputs": [],
   "source": [
    "print(len(EdgePos))\n",
    "print(EdgePos)"
   ]
  },
  {
   "cell_type": "code",
   "execution_count": null,
   "id": "4a1c3730",
   "metadata": {},
   "outputs": [],
   "source": [
    "importlib.reload(HySE_HypercubeFunctions)\n",
    "\n",
    "Dark = HySE_HypercubeFunctions.GetDark(DataAll, EdgePos)\n",
    "print(Dark.shape)"
   ]
  },
  {
   "cell_type": "code",
   "execution_count": null,
   "id": "86a81fc3",
   "metadata": {},
   "outputs": [],
   "source": []
  }
 ],
 "metadata": {
  "kernelspec": {
   "display_name": "Python 3 (ipykernel)",
   "language": "python",
   "name": "python3"
  },
  "language_info": {
   "codemirror_mode": {
    "name": "ipython",
    "version": 3
   },
   "file_extension": ".py",
   "mimetype": "text/x-python",
   "name": "python",
   "nbconvert_exporter": "python",
   "pygments_lexer": "ipython3",
   "version": "3.10.4"
  }
 },
 "nbformat": 4,
 "nbformat_minor": 5
}
